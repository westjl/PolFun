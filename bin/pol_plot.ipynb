{
 "cells": [
  {
   "cell_type": "markdown",
   "metadata": {},
   "source": [
    "# The polarisation ellipse and Poincaré Sphere"
   ]
  },
  {
   "cell_type": "markdown",
   "metadata": {},
   "source": [
    "### Code by Wasim Raja and Jennifer West"
   ]
  },
  {
   "cell_type": "code",
   "execution_count": 1,
   "metadata": {},
   "outputs": [
    {
     "name": "stderr",
     "output_type": "stream",
     "text": [
      "\n",
      "Bad key \"text.kerning_factor\" on line 4 in\n",
      "/Users/jenniferwest/anaconda/envs/py37/lib/python3.7/site-packages/matplotlib/mpl-data/stylelib/_classic_test_patch.mplstyle.\n",
      "You probably need to get an updated matplotlibrc file from\n",
      "http://github.com/matplotlib/matplotlib/blob/master/matplotlibrc.template\n",
      "or from the matplotlib source distribution\n"
     ]
    }
   ],
   "source": [
    "%matplotlib ipympl\n",
    "import matplotlib.pyplot as plt\n",
    "import numpy as np\n",
    "\n",
    "import matplotlib.animation as animation\n",
    "from matplotlib import gridspec\n",
    "import scipy.ndimage\n",
    "from matplotlib.patches import FancyArrowPatch\n",
    "from mpl_toolkits.mplot3d.axes3d import Axes3D\n",
    "from mpl_toolkits.mplot3d.proj3d import proj_transform\n",
    "#%matplotlib notebook\n"
   ]
  },
  {
   "cell_type": "code",
   "execution_count": 2,
   "metadata": {},
   "outputs": [],
   "source": [
    "class Arrow3D(FancyArrowPatch):\n",
    "\n",
    "    def __init__(self, x, y, z, dx, dy, dz, *args, **kwargs):\n",
    "        super().__init__((0, 0), (0, 0), *args, **kwargs)\n",
    "        self._xyz = (x, y, z)\n",
    "        self._dxdydz = (dx, dy, dz)\n",
    "\n",
    "    def draw(self, renderer):\n",
    "        x1, y1, z1 = self._xyz\n",
    "        dx, dy, dz = self._dxdydz\n",
    "        x2, y2, z2 = (x1 + dx, y1 + dy, z1 + dz)\n",
    "\n",
    "        xs, ys, zs = proj_transform((x1, x2), (y1, y2), (z1, z2), self.axes.M)\n",
    "        self.set_positions((xs[0], ys[0]), (xs[1], ys[1]))\n",
    "        super().draw(renderer)\n",
    "        \n",
    "    def do_3d_projection(self, renderer=None):\n",
    "        x1, y1, z1 = self._xyz\n",
    "        dx, dy, dz = self._dxdydz\n",
    "        x2, y2, z2 = (x1 + dx, y1 + dy, z1 + dz)\n",
    "\n",
    "        xs, ys, zs = proj_transform((x1, x2), (y1, y2), (z1, z2), self.axes.M)\n",
    "        self.set_positions((xs[0], ys[0]), (xs[1], ys[1]))\n",
    "\n",
    "        return np.min(zs) \n",
    "def _arrow3D(ax, x, y, z, dx, dy, dz, *args, **kwargs):\n",
    "    '''Add an 3d arrow to an `Axes3D` instance.'''\n",
    "\n",
    "    arrow = Arrow3D(x, y, z, dx, dy, dz, *args, **kwargs)\n",
    "    ax.add_artist(arrow)\n",
    "\n",
    "\n",
    "setattr(Axes3D, 'arrow3D', _arrow3D)\n",
    "\n"
   ]
  },
  {
   "cell_type": "code",
   "execution_count": 3,
   "metadata": {},
   "outputs": [],
   "source": [
    "#constants\n",
    "c = 3e8\n",
    "z = 0"
   ]
  },
  {
   "cell_type": "code",
   "execution_count": 4,
   "metadata": {},
   "outputs": [],
   "source": [
    "#inputs\n",
    "phi_deg = 45 #phase difference between Ex and Ey\n",
    "angle_th = 45 #pol position angle\n",
    "\n",
    "phi = np.deg2rad(phi_deg)\n",
    "angle_th = np.deg2rad(angle_th)"
   ]
  },
  {
   "cell_type": "markdown",
   "metadata": {},
   "source": [
    "### Relations of variables\n",
    "$\\omega \\times t $\\\n",
    "$\\nu = \\omega/2\\pi $\\\n",
    "$T = 1/\\nu $\\\n",
    "$T = 2\\pi/\\omega$\n",
    "\n",
    "$k \\times z$\\\n",
    "$Z = 2\\pi/k$\n",
    "\n",
    "$E_1 = E_0 cos(\\theta)$\\\n",
    "$E_2 = E_0 sin(\\theta)$\n",
    "\n",
    "$\\theta = tan^{-1}(E_2/E_1)$\n",
    "\n",
    "$E_x = E_1sin(\\omega t - k z)$\\\n",
    "$E_y = E_2sin(\\omega t - k z + \\phi)$\n",
    "\n",
    "Fundamental quantities:\n",
    "\n",
    "$E_0$ : amplitude\\\n",
    "$\\theta$ : linear polarization angle\\\n",
    "$\\phi$ : phase difference\n"
   ]
  },
  {
   "cell_type": "code",
   "execution_count": 5,
   "metadata": {},
   "outputs": [],
   "source": [
    "E1 = np.cos(angle_th)\n",
    "E2 = np.sin(angle_th)\n",
    "coord_max = max(E1,E2)\n",
    "\n",
    "\n",
    "omega = 10\n",
    "nu = omega/(2*np.pi)\n",
    "Lambda = c/nu\n",
    "T = 1/nu # Time-Period of the wave\n",
    "ntCycles=4\n",
    "n_t = ntCycles*100\n",
    "t_T = np.linspace(0,ntCycles*T,n_t)\n",
    "\n",
    "k = 2*np.pi/Lambda\n",
    "Z = 2*np.pi/k   # this is equal to 1-Lambda\n",
    "nzCycles=4\n",
    "n_z = nzCycles*100\n",
    "z_Z = np.linspace(0,nzCycles*Z,n_z)"
   ]
  },
  {
   "cell_type": "markdown",
   "metadata": {},
   "source": [
    "### Wave in 3D as a function of time"
   ]
  },
  {
   "cell_type": "code",
   "execution_count": 6,
   "metadata": {},
   "outputs": [
    {
     "data": {
      "application/vnd.jupyter.widget-view+json": {
       "model_id": "99f53c7db00640c492cbe57e113ff27b",
       "version_major": 2,
       "version_minor": 0
      },
      "text/plain": [
       "FigureCanvasNbAgg()"
      ]
     },
     "metadata": {},
     "output_type": "display_data"
    }
   ],
   "source": [
    "#Set the viewing angle\n",
    "\n",
    "el=90.\n",
    "az=90.\n",
    "\n",
    "#Set the position of the arrows to draw\n",
    "#position of arrows in units of wavelenghts\n",
    "#max scale is 4 wavelengths\n",
    "zwave1 = 1 \n",
    "zwave2=3.65 \n",
    "\n",
    "zloc1=int(zwave1*n_z/nzCycles)\n",
    "zloc2=int(zwave2*n_z/nzCycles)  \n",
    "\n",
    "figS = plt.figure(figsize=(8,8))\n",
    "plt.tight_layout()\n",
    "\n",
    "zmin = z_Z[0]\n",
    "zmax = z_Z[n_z - 1]\n",
    "w1=2\n",
    "w2=3\n",
    "\n",
    "ax = plt.axes(xlim=(-1, 1), ylim=(-1, 1), zlim=(t_T[0],t_T[n_t-1]), projection='3d')\n",
    "line, = ax.plot3D([], [], [], lw=3, label=\"\")\n",
    "gs = gridspec.GridSpec(1, 1, width_ratios=[1]) \n",
    "\n",
    "colour='green'\n",
    "\n",
    "ax3 = plt.subplot(gs[0], xlim=(-2, 2), ylim=(-2, 2), zlim=(zmin,zmax/zmax), projection='3d') \n",
    "line3, = ax3.plot([],[],'-', lw=w1,c=colour, alpha=0.5)\n",
    "centre3,= ax3.plot([],[],[], '-', lw=w1, alpha=1.0, c='black')\n",
    "\n",
    "arrowa = ax3.quiver([],[],[],[],[],[])\n",
    "arrowb = ax3.quiver([],[],[],[],[],[])\n",
    "\n",
    "ax3.grid(\"off\")\n",
    "ax3.set_yticklabels([])\n",
    "ax3.set_xticklabels([])\n",
    "ax3.set_zticklabels([])\n",
    "ax3.view_init(elev=el, azim=az)\n",
    "# Get rid of colored axes planes\n",
    "# First remove fill\n",
    "ax3.xaxis.pane.fill = False\n",
    "ax3.yaxis.pane.fill = False\n",
    "ax3.zaxis.pane.fill = False\n",
    "\n",
    "# Now set color to white (or whatever is \"invisible\")\n",
    "ax3.xaxis.pane.set_edgecolor('w')\n",
    "ax3.yaxis.pane.set_edgecolor('w')\n",
    "ax3.zaxis.pane.set_edgecolor('w')\n",
    "\n",
    "\n",
    "ax3.set_xlabel(\"X\")\n",
    "ax3.set_ylabel(\"Y\")\n",
    "ax3.set_zlabel(\"Z\")\n",
    "\n",
    "def init():\n",
    "    line.set_data([], [])\n",
    "    return line,\n",
    "\n",
    "def animatesum(i):\n",
    "    global arrowa, arrowb\n",
    "    z = z_Z\n",
    "    t=t_T[i]  \n",
    "    Ex = E1*np.sin(omega*t - k*z)/coord_max\n",
    "    Ey = E2*np.sin(omega*t - k*z + phi) /coord_max\n",
    "    line3.set_data(Ex, Ey)\n",
    "    #divide by zmax to normalize z-values\n",
    "    line3.set_3d_properties(z/zmax)\n",
    "    centre3.set_data([0,0],[0,0])\n",
    "    #normalized z-axis from 0 to 1 \n",
    "    centre3.set_3d_properties([0,1])\n",
    "    arrowa.remove()\n",
    "    arrowa = ax3.quiver(0,0,z_Z[zloc1]/zmax, Ex[zloc1],Ey[zloc1],0, arrow_length_ratio=0.1, lw=w2, color=colour)\n",
    "    arrowb.remove()\n",
    "    arrowb = ax3.quiver(0,0,z_Z[zloc2]/zmax, Ex[zloc2],Ey[zloc2],0, arrow_length_ratio=0.1, lw=w2, color=colour)\n",
    "    return line3\n",
    "\n",
    "animS = animation.FuncAnimation(figS, animatesum, init_func=init, frames = n_z, interval = 30, repeat = False)\n",
    "#animS\n",
    "plt.show()"
   ]
  },
  {
   "cell_type": "code",
   "execution_count": 7,
   "metadata": {},
   "outputs": [
    {
     "data": {
      "application/vnd.jupyter.widget-view+json": {
       "model_id": "c647af94266d4e89a7664cd7befdae44",
       "version_major": 2,
       "version_minor": 0
      },
      "text/plain": [
       "FigureCanvasNbAgg()"
      ]
     },
     "metadata": {},
     "output_type": "display_data"
    }
   ],
   "source": [
    "# creating a blank window \n",
    "# for the animation  \n",
    "fig = plt.figure()  \n",
    "axis = plt.axes(xlim =(-1.2, 1.2), \n",
    "                ylim =(-1.2, 1.2))  \n",
    "  \n",
    "linex, = axis.plot([], [], 'bo', markersize=3, label = \"Ex\", alpha=0.3)  \n",
    "liney, = axis.plot([], [], 'go', markersize=3, label = \"Ey\", alpha=0.3)  \n",
    "line, = axis.plot([], [], 'ro', markersize=3, label=\"Etotal\", alpha=0.3) \n",
    "axis.axis('square') \n",
    "axis.set_xlabel(\"Ex(t)\")\n",
    "axis.set_ylabel(\"Ey(t)\")\n",
    "axis.legend()\n",
    "# what will our line dataset \n",
    "# contain? \n",
    "def init():  \n",
    "    line.set_data([], [])  \n",
    "    return line,  \n",
    "   \n",
    "# initializing empty values \n",
    "# for x and y co-ordinates \n",
    "xdata, ydata = [], []  \n",
    "x_const, y_const = [], []    \n",
    "# animation function  \n",
    "def animate(i):  \n",
    "    # t is a parameter which varies \n",
    "    # with the frame number \n",
    "    t =  t_T[i] \n",
    "       \n",
    "    # x, y values to be plotted  \n",
    "    Ex = E1*np.sin(omega*t - k*z)/coord_max\n",
    "    Ey = E2*np.sin(omega*t - k*z + phi) /coord_max\n",
    "       \n",
    "    # appending values to the previously  \n",
    "    # empty x and y data holders  \n",
    "    xdata.append(Ex)  \n",
    "    ydata.append(Ey) \n",
    "    x_const.append(0)\n",
    "    y_const.append(0)\n",
    "      \n",
    "    linex.set_data(x_const, ydata)\n",
    "    liney.set_data(xdata, y_const)\n",
    "    line.set_data(xdata, ydata)\n",
    "      \n",
    "    return line, \n",
    "   \n",
    "# calling the animation function      \n",
    "anim = animation.FuncAnimation(fig, animate, init_func = init,  \n",
    "                               frames = t_T.shape[0], interval = 20, repeat = False)  \n",
    "#anim\n",
    "plt.show()\n"
   ]
  },
  {
   "cell_type": "code",
   "execution_count": 8,
   "metadata": {},
   "outputs": [
    {
     "name": "stdout",
     "output_type": "stream",
     "text": [
      "s_maj_axis =  0.9238795325112867\n",
      "s_min_axis =  0.3826834323650897\n",
      "angle_th =  0.7853981633974483\n",
      "axis ratio =  2.4142135623730954\n",
      "E1 =  0.7071067811865476\n",
      "E2 =  0.7071067811865475\n",
      "E2/E1 =  0.9999999999999999\n",
      "phi_deg =  45\n",
      "tau_0 (linear PA) =  45.0\n",
      "epsilon_0 (latitude in Poincare Sphere) =  22.499999999999996\n"
     ]
    }
   ],
   "source": [
    "tau_0 = 0.5*np.arctan2(np.tan(2.0*angle_th)*np.cos(phi),1.0)\n",
    "eps=1e-10\n",
    "axis_ratio = 0\n",
    "#The trick is to rotate the x-axis onto the MAJ-axis\n",
    "#The Mathematics does not distinguish between x-axis \n",
    "#and y-axis or the maj-axis and the minor-axis .\n",
    "if ((phi == 0.0) or (E1*E2 < eps)):\n",
    "#Linear polarisation\n",
    "    tau_0 = np.rad2deg(angle_th)\n",
    "    epsilon_0 = 0.0\n",
    "    s_maj_axis = 1.0\n",
    "    s_min_axis = 0.0\n",
    "elif(phi!=0.0):\n",
    "    if(np.cos(phi) >= 0.0):\n",
    "        if(angle_th <= np.pi/4.0):\n",
    "            tau_0 = tau_0\n",
    "        elif(angle_th > np.pi/4.0):\n",
    "            tau_0 = np.pi/2.0 + tau_0 #tau becomes -ve in this case\n",
    "\n",
    "        elif(np.cos(phi) < 0.0):\n",
    "            if(angle_th > np.pi/4.0):\n",
    "                tau_0 = tau_0 + np.pi/2.0\n",
    "            elif(angle_th <= pi/4.0):\n",
    "                tau_0 = np.pi + tau_0 #tau becomes -ve in this case\n",
    "\n",
    "    a2 = ((np.sin(angle_th)*np.cos(angle_th)*np.sin(phi))**2)/((np.sin(tau_0)*np.cos(angle_th))**2 + (np.cos(tau_0)*np.sin(angle_th))**2 - 2.0*np.sin(tau_0)*np.cos(tau_0)*np.sin(angle_th)*np.cos(angle_th)*np.cos(phi))\n",
    "    b2 = ((np.sin(angle_th)*np.cos(angle_th)*np.sin(phi))**2)/((np.cos(tau_0)*np.cos(angle_th))**2 + (np.sin(tau_0)*np.cos(angle_th))**2 + 2.0*np.sin(tau_0)*np.cos(tau_0)*np.sin(angle_th)*np.cos(angle_th)*np.cos(phi))\n",
    "\n",
    "    a = np.sqrt(a2)\n",
    "    b = np.sqrt(b2)\n",
    "    tau_0 = np.rad2deg(tau_0)\n",
    "    s_maj_axis = max(a,b)\n",
    "    s_min_axis = min(a,b)\n",
    "    if (s_min_axis <= eps):\n",
    "        s_min_axis = eps\n",
    "\n",
    "    if (phi > 0): # by convention +phi => LCP\n",
    "        axis_ratio = s_maj_axis/s_min_axis   # -phi => RCP\n",
    "    elif (phi < 0): # on the PS, NP = LCP\n",
    "        axis_ratio = -s_maj_axis/s_min_axis  #SP = RCP\n",
    "    epsilon_0 = np.rad2deg(np.arctan2(1,axis_ratio))\n",
    "\n",
    "print(\"s_maj_axis = \",s_maj_axis)\n",
    "print(\"s_min_axis = \",s_min_axis)\n",
    "print(\"angle_th = \",angle_th)                                 \n",
    "print(\"axis ratio = \",np.divide(s_maj_axis,s_min_axis))\n",
    "print(\"E1 = \",E1)\n",
    "print(\"E2 = \",E2)\n",
    "print(\"E2/E1 = \",np.divide(E2,E1))\n",
    "print(\"phi_deg = \",phi_deg)\n",
    "print(\"tau_0 (linear PA) = \",tau_0) # 2*tau_0 = longitude in Poincare Sphere\n",
    "print(\"epsilon_0 (latitude in Poincare Sphere) = \",epsilon_0)     # 2*epsilon_0 = latitude in Poincare Sphere \n"
   ]
  },
  {
   "cell_type": "code",
   "execution_count": 9,
   "metadata": {},
   "outputs": [],
   "source": [
    "#********** Define the Poincare Sphere ************\n",
    "R = 1\n",
    "n_tau = 20\n",
    "n_epsilon = 15 \n",
    "tau = np.linspace(0,180,n_tau)          # 2*tau = longitude\n",
    "tau = np.deg2rad(tau)\n",
    "\n",
    "epsilon = np.linspace(-45,45,n_epsilon)   # 2*epsilon = latitude\n",
    "epsilon = np.deg2rad(epsilon)\n",
    "x_par = np.zeros((n_tau,n_epsilon ))\n",
    "y_par = np.zeros((n_tau,n_epsilon ))\n",
    "z_par = np.zeros((n_tau,n_epsilon ))\n",
    "for j in range(0, n_epsilon):\n",
    "    for i in range(0, n_tau):\n",
    "        x_par[i,j] = R*np.cos(2*epsilon[j])*np.cos(2*tau[i])\n",
    "        y_par[i,j] = R*np.cos(2*epsilon[j])*np.sin(2*tau[i])\n",
    "        z_par[i,j] = R*np.sin(2*epsilon[j])\n",
    "        \n",
    "tau_0_rad = np.deg2rad(tau_0)\n",
    "epsilon_0_rad = np.deg2rad(epsilon_0)\n",
    "x_par_0 = R*np.cos(2*epsilon_0_rad)*np.cos(2*tau_0_rad)\n",
    "y_par_0 = R*np.cos(2*epsilon_0_rad)*np.sin(2*tau_0_rad)\n",
    "z_par_0 = R*np.sin(2*epsilon_0_rad)\n"
   ]
  },
  {
   "cell_type": "code",
   "execution_count": 14,
   "metadata": {
    "scrolled": false
   },
   "outputs": [
    {
     "data": {
      "application/vnd.jupyter.widget-view+json": {
       "model_id": "30f7064efecd4223b64e3c90edbcb908",
       "version_major": 2,
       "version_minor": 0
      },
      "text/plain": [
       "FigureCanvasNbAgg()"
      ]
     },
     "metadata": {},
     "output_type": "display_data"
    },
    {
     "name": "stderr",
     "output_type": "stream",
     "text": [
      "/Users/jenniferwest/anaconda/envs/py37/lib/python3.7/site-packages/numpy/core/_asarray.py:136: VisibleDeprecationWarning: Creating an ndarray from ragged nested sequences (which is a list-or-tuple of lists-or-tuples-or ndarrays with different lengths or shapes) is deprecated. If you meant to do this, you must specify 'dtype=object' when creating the ndarray\n",
      "  return array(a, dtype, copy=False, order=order, subok=True)\n"
     ]
    },
    {
     "data": {
      "text/plain": [
       "Text(0.5, 0.92, 'Poincaré Sphere')"
      ]
     },
     "execution_count": 14,
     "metadata": {},
     "output_type": "execute_result"
    }
   ],
   "source": [
    "fig = plt.figure(figsize=(8,8))\n",
    "ax = fig.add_subplot(projection='3d')\n",
    "\n",
    "ax.plot_wireframe(x_par, y_par, z_par,alpha=0.15)\n",
    "x_eq = np.where(z_par==0,x_par,0)\n",
    "y_eq = np.where(z_par==0,y_par,0)\n",
    "z_eq = np.where(z_par==0,z_par,0)\n",
    "ax.plot_surface(x_eq, y_eq, z_eq, rstride=1, cstride=1, alpha=0.05)\n",
    "\n",
    "ax.scatter(0,0,0,c=\"k\",s=100)\n",
    "\n",
    "#ax.set_box_aspect(aspect=(1, 1, 1))\n",
    "\n",
    "ax.arrow3D(0,0,0,x_par_0, y_par_0, z_par_0,color=\"r\",mutation_scale=30,ec ='red',fc='red')\n",
    "\n",
    "ax.set_xlabel(\"Stokes Q\")\n",
    "ax.set_ylabel(\"Stokes U\")\n",
    "ax.set_zlabel(\"Stokes V\")\n",
    "\n",
    "# Get rid of colored axes planes\n",
    "# First remove fill\n",
    "ax.xaxis.pane.fill = False\n",
    "ax.yaxis.pane.fill = False\n",
    "ax.zaxis.pane.fill = False\n",
    "\n",
    "# Now set color to white (or whatever is \"invisible\")\n",
    "ax.xaxis.pane.set_edgecolor('w')\n",
    "ax.yaxis.pane.set_edgecolor('w')\n",
    "ax.zaxis.pane.set_edgecolor('w')\n",
    "\n",
    "ax.xaxis._axinfo[\"grid\"].update({\"color\":(0.1,0.1,0.1,0.1)})\n",
    "ax.yaxis._axinfo[\"grid\"].update({\"color\":(0.1,0.1,0.1,0.1)})\n",
    "ax.zaxis._axinfo[\"grid\"].update({\"color\":(0.1,0.1,0.1,0.1)})\n",
    "\n",
    "plt.title(\"Poincaré Sphere\")\n",
    "\n",
    "# Get rid of the grid as well:\n",
    "#ax.grid(False)"
   ]
  },
  {
   "cell_type": "code",
   "execution_count": null,
   "metadata": {},
   "outputs": [],
   "source": []
  },
  {
   "cell_type": "code",
   "execution_count": null,
   "metadata": {},
   "outputs": [],
   "source": []
  },
  {
   "cell_type": "code",
   "execution_count": null,
   "metadata": {},
   "outputs": [],
   "source": []
  },
  {
   "cell_type": "code",
   "execution_count": null,
   "metadata": {},
   "outputs": [],
   "source": []
  }
 ],
 "metadata": {
  "kernelspec": {
   "display_name": "Python 3",
   "language": "python",
   "name": "python3"
  },
  "language_info": {
   "codemirror_mode": {
    "name": "ipython",
    "version": 3
   },
   "file_extension": ".py",
   "mimetype": "text/x-python",
   "name": "python",
   "nbconvert_exporter": "python",
   "pygments_lexer": "ipython3",
   "version": "3.7.5"
  }
 },
 "nbformat": 4,
 "nbformat_minor": 2
}
